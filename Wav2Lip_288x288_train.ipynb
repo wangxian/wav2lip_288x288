{
 "cells": [
  {
   "cell_type": "markdown",
   "metadata": {
    "id": "bXa0yALimKfi"
   },
   "source": [
    "# 浪子之心科技\n",
    "## wav2lip_288x288训练操作手册"
   ]
  },
  {
   "cell_type": "code",
   "execution_count": null,
   "metadata": {},
   "outputs": [],
   "source": [
    "#@title 一、下载源码安装依赖\n",
    "git clone https://github.com/primepake/wav2lip_288x288"
   ]
  },
  {
   "cell_type": "code",
   "execution_count": 1,
   "metadata": {
    "id": "LMIpU4kXLSRa"
   },
   "outputs": [],
   "source": [
    "#@title 二、下载源码安装依赖\n",
    "# 这里需要提前将人脸检测器的权重提前上传到网盘，再进行下载，我这边用的是我自己的分享链接，后期可能会关闭。\n",
    "cd ./wav2lip_288x288\n",
    "# 下载人脸检测器模型\n",
    "wget \"https://www.adrianbulat.com/downloads/python-fan/s3fd-619a316812.pth\" -O \"/root/wav2lip_288x288/face_detection/detection/sfd/s3fd.pth\""
   ]
  },
  {
   "cell_type": "code",
   "execution_count": null,
   "metadata": {},
   "outputs": [],
   "source": [
    "# #@title 三、安装依赖\n",
    "# cd wav2lip_288x288\n",
    "# a = !pip install https://raw.githubusercontent.com/AwaleSajil/ghc/master/ghc-1.0-py3-none-any.whl\n",
    "# # !pip uninstall tensorflow tensorflow-gpu\n",
    "# pip install librosa numpy opencv-contrib-python opencv-python torch torchvision tqdm numba\n",
    "# pip install -q youtube-dl\n",
    "# pip install ffmpeg-python\n",
    "# pip install librosa==0.9.1"
   ]
  },
  {
   "cell_type": "code",
   "execution_count": null,
   "metadata": {
    "colab": {
     "base_uri": "https://localhost:8080/"
    },
    "executionInfo": {
     "elapsed": 1840,
     "status": "ok",
     "timestamp": 1689898318904,
     "user": {
      "displayName": "rui lu",
      "userId": "15695518765939055507"
     },
     "user_tz": -480
    },
    "id": "iMc9a9R4pOH6",
    "outputId": "c95e0033-6621-4707-b30d-91d8ce72f7bd"
   },
   "outputs": [],
   "source": [
    "#@title 四、进行数据预处理\n",
    "# 上传收集好的视频到source_data，要求说话清晰，嘴型清晰，没有杂音没有背景音。\n",
    "# 25帧率，16000赫兹，每个人说话1，2分钟。几千人效果较好。我这个模型是600人的，20多个小时的数据集。\n",
    "\n",
    "# 将数据切割成5秒左右的说话视频\n",
    "python split_video.py\n",
    "# 生成data下的文件\n",
    "\n",
    "# 生成filelists文件夹下面的train.txt val.txt\n",
    "python sample.py"
   ]
  },
  {
   "cell_type": "code",
   "execution_count": null,
   "metadata": {
    "colab": {
     "base_uri": "https://localhost:8080/"
    },
    "executionInfo": {
     "elapsed": 554470,
     "status": "ok",
     "timestamp": 1689899192725,
     "user": {
      "displayName": "rui lu",
      "userId": "15695518765939055507"
     },
     "user_tz": -480
    },
    "id": "AegeU2fHhfXu",
    "outputId": "6a779eec-804f-47ae-be62-04ffa9d7b063"
   },
   "outputs": [],
   "source": [
    "# 数据处理\n",
    "# 如果爆显存 请将 preprocess.py 的 batch_size 改成16 或者更小。\n",
    "# 如果爆显存 请将 preprocess.py 的 batch_size 改成8 或者更小。\n",
    "cd wav2lip_288x288\n",
    "python preprocess.py --data_root ./data --preprocessed_root ./preprocessed_data --batch_size 4"
   ]
  },
  {
   "cell_type": "code",
   "execution_count": null,
   "metadata": {
    "colab": {
     "base_uri": "https://localhost:8080/"
    },
    "executionInfo": {
     "elapsed": 104898,
     "status": "ok",
     "timestamp": 1689899386063,
     "user": {
      "displayName": "rui lu",
      "userId": "15695518765939055507"
     },
     "user_tz": -480
    },
    "id": "4NJXHuDSn88h",
    "outputId": "0581e5ff-084d-489f-fd28-9319677d1bf8"
   },
   "outputs": [],
   "source": [
    "#@title 三、训练判别器\n",
    "# 高清的判别器需要自己训练 lipsync_expert.pth, 大概227M大小。\n",
    "# 如果爆显存 ，请将 hparams.py的 batch_size 改成4 或者更小。\n",
    "\n",
    "cd wav2lip_288x288\n",
    "mkdir expert_checkpoints\n",
    "\n",
    "python color_syncnet_train.py --data_root ./preprocessed_data --checkpoint_dir ./expert_checkpoints\n",
    "# python color_syncnet_train.py --data_root ./preprocessed_data --checkpoint_dir ./expert_checkpoints --checkpoint_path ./expert_checkpoints/checkpoint_step000135000.pth\n"
   ]
  },
  {
   "cell_type": "code",
   "execution_count": null,
   "metadata": {
    "colab": {
     "base_uri": "https://localhost:8080/"
    },
    "executionInfo": {
     "elapsed": 6859,
     "status": "ok",
     "timestamp": 1689898313137,
     "user": {
      "displayName": "rui lu",
      "userId": "15695518765939055507"
     },
     "user_tz": -480
    },
    "id": "VAM3kOLAn9D6",
    "outputId": "f262a113-1868-44a4-c76d-cf35a3c9e9cb"
   },
   "outputs": [],
   "source": [
    "#@title 四、训练生成器\n",
    "# 如果爆显存 ，请将 hparams.py 的 batch_size 改成4 或者更小。\n",
    "cd wav2lip_288x288\n",
    "python wav2lip_train.py --data_root ./preprocessed_data --checkpoint_dir ./checkpoints --syncnet_checkpoint_path ./expert_checkpoints/checkpoint_step000005000.pth"
   ]
  },
  {
   "cell_type": "code",
   "execution_count": null,
   "metadata": {
    "colab": {
     "base_uri": "https://localhost:8080/"
    },
    "executionInfo": {
     "elapsed": 3457,
     "status": "ok",
     "timestamp": 1689898316583,
     "user": {
      "displayName": "rui lu",
      "userId": "15695518765939055507"
     },
     "user_tz": -480
    },
    "id": "Mq9bPT2WvBls",
    "outputId": "01664346-15e4-4f74-f27f-0f15351a283c"
   },
   "outputs": [],
   "source": [
    "#@title 五、进行推理\n",
    "cd wav2lip_288x288\n",
    "python inference.py --checkpoint_path ./checkpoints/checkpoint_step000387000.pth --face ./input/555.mp4 --audio ./input/555.wav\n",
    "\n",
    "# 测试\n",
    "python inference.py --checkpoint_path checkpoints/checkpoint_step000387000.pth --face input/video000.mp4 --audio input/mingzheng-clone-16k.wav --outfile results/127.mp4"
   ]
  }
 ],
 "metadata": {
  "accelerator": "GPU",
  "colab": {
   "gpuType": "T4",
   "provenance": []
  },
  "gpuClass": "standard",
  "kernelspec": {
   "display_name": "Python 3 (ipykernel)",
   "language": "python",
   "name": "python3"
  },
  "language_info": {
   "codemirror_mode": {
    "name": "ipython",
    "version": 3
   },
   "file_extension": ".py",
   "mimetype": "text/x-python",
   "name": "python",
   "nbconvert_exporter": "python",
   "pygments_lexer": "ipython3",
   "version": "3.8.10"
  }
 },
 "nbformat": 4,
 "nbformat_minor": 4
}
